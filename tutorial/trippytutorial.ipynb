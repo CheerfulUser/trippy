{
 "cells": [
  {
   "cell_type": "markdown",
   "metadata": {},
   "source": [
    "TRIPPy examples\n",
    "========\n",
    "\n",
    "Introduction: SExtractor and emcee\n",
    "--------------------------------\n",
    "\n",
    "To perform photometry and source subtraction, in addition to having a good PSF (which trippy will generate) one needs three very important parameters: x, y, and m, or source position and amplitude. \n",
    "\n",
    "When one has the PSF and TSF already generated, one can run a fitting routine to solve for these. For this purpose, we use [emcee.](https://github.com/dfm/emcee) *emcee* is an MCMC routine which allows for good estimates of (x,y,m) and their uncertainties. We use a likelihood definition as the natural log likelihood of the exponential flux, basically exactly what you'd expect. If you are uncertain of what this means, or care for more detail, please go read the *emcee* documentation.\n",
    "\n",
    "If the PSF or TSF is not yet known, to get a centroid (x,y), we need to use some other software. We haven't included this inside trippy because there is no point in reinventing a wheel that has already been nearly perfected. For this purpose, we use the venerable [SExtractor.](http://www.astromatic.net/software/sextractor) All jokes on its name aside, *sextractor* does exactly what we need, as well as we would ever need it to be done. \n",
    "\n",
    "Trippy includes a module *trippy.scamp* with functions defined in *scamp.py* and *makeParFiles.py* that mearly provide convenient wrappers to call *sextractor*. This has been done in a couple other packages, but not in a way that satisfies me. Hence my own implementation. A couple details to note: makeParFiles creates all the parameter files in the working directory (eg. *makeParFiles.writeConv()*), and scamp is responsible for *sextractor* execution and catalog reading (*scamp.runSex()* and *scamp.getCatalog*). Catalogs are stored in FITS_LDAC format. This choice was done to facilitate execution of the *sextractor* sister program *scamp*, though we won't need to know what that means for full use of trippy. If you are unfamiliar with *sextractor* and its use, don't adopt trippy as a blackbox. [RTFM!](http://www.starlink.rl.ac.uk/docs/sun226.htx/mud165.pdf)\n",
    "\n",
    "With that out of the way, on to actual business.\n",
    "\n",
    "\n",
    "The *trippy* tutorial\n",
    "------------------\n",
    "\n",
    "The first thing to do is import all the necessary packages. Note that this notebook assumes you have the optional packages installed, as well as SExtractor available on your command line.\n",
    "\n",
    "**NOTE: proper use of psfStarChooser requires plot interaction. So for this tutorial you'd best comment out the first line, %matplotlib inline. But for my web presentation, I leave inline.**"
   ]
  },
  {
   "cell_type": "code",
   "execution_count": 1,
   "metadata": {
    "collapsed": true
   },
   "outputs": [],
   "source": [
    "#%matplotlib inline\n",
    "import numpy as num, astropy.io.fits as pyf,pylab as pyl\n",
    "from trippy import psf, pill, psfStarChooser\n",
    "from trippy import scamp,MCMCfit\n",
    "import scipy as sci\n",
    "from os import path\n",
    "import os\n",
    "from stsci import numdisplay\n",
    "from astropy.visualization import interval"
   ]
  },
  {
   "cell_type": "markdown",
   "metadata": {},
   "source": [
    "The function trim catalog is a convenience function to simply return only those sources that are well enough isolated for PSF generation. It rejects any sources within 30 pixels of another source, any sources with peak pixel above 70,000, and any sources that sextractor has flagged **for what ever reason**. We may fold this into psfStarChooser in the future.\n"
   ]
  },
  {
   "cell_type": "code",
   "execution_count": 2,
   "metadata": {
    "collapsed": true
   },
   "outputs": [],
   "source": [
    "def trimCatalog(cat):\n",
    "    good=[]\n",
    "    for i in range(len(cat['XWIN_IMAGE'])):\n",
    "        try:\n",
    "            a=int(cat['XWIN_IMAGE'][i])\n",
    "            b=int(cat['YWIN_IMAGE'][i])\n",
    "            m=num.max(data[b-4:b+5,a-4:a+5])\n",
    "        except: pass\n",
    "        dist=num.sort(((cat['XWIN_IMAGE']-cat['XWIN_IMAGE'][i])**2+(cat['YWIN_IMAGE']-cat['YWIN_IMAGE'][i])**2)**0.5)\n",
    "        d=dist[1]\n",
    "        if cat['FLAGS'][i]==0 and d>30 and m<70000:\n",
    "            good.append(i)\n",
    "    good=num.array(good)\n",
    "    outcat={}\n",
    "    for i in cat:\n",
    "        outcat[i]=cat[i][good]\n",
    "    return outcat\n"
   ]
  },
  {
   "cell_type": "markdown",
   "metadata": {},
   "source": [
    "Get the image this tutorial assumes you have. If wget fails then you are likely on a mac, and should just download it manually"
   ]
  },
  {
   "cell_type": "code",
   "execution_count": 3,
   "metadata": {
    "collapsed": false
   },
   "outputs": [
    {
     "name": "stdout",
     "output_type": "stream",
     "text": [
      "We already have the file.\n"
     ]
    }
   ],
   "source": [
    "inputFile='Polonskaya.fits'\n",
    "if not path.isfile(inputFile):\n",
    "    os.system('wget -O Polonskaya.fits http://www.canfar.phys.uvic.ca/vospace/nodes/fraserw/Polonskaya.fits?view=data')\n",
    "else:\n",
    "    print \"We already have the file.\""
   ]
  },
  {
   "cell_type": "markdown",
   "metadata": {},
   "source": [
    "First load the fits image and get out the header, data, and exposure time."
   ]
  },
  {
   "cell_type": "code",
   "execution_count": 4,
   "metadata": {
    "collapsed": false
   },
   "outputs": [],
   "source": [
    "with pyf.open(inputFile) as han:\n",
    "    data=han[0].data\n",
    "    header=han[0].header\n",
    "    EXPTIME=header['EXPTIME']\n",
    "    \n",
    "\n"
   ]
  },
  {
   "cell_type": "markdown",
   "metadata": {},
   "source": [
    "Next run sextractor on the images, and use trimCatalog to create a trimmed down list of isolated sources. \n",
    "\n",
    "makeParFiles handles the creation of all the sextractor files, including the .sex file which we call example.sex, the default.conv, the param file which is saved as def.param.\n",
    "\n",
    ".runSex creates example.cat which is read by .getCatalog. getCatalog takes as input the catalog name and the parameter file \"def.param\".\n",
    "\n",
    "The parameters that are actually used by psfStarChooser and psf.genLookupTable are XWIN_IMAGE, YWIN_IMAGE, FLUX_AUTO, and FLUXERR_AUTO, which are the x,y coordinates, the flux, and the flux uncertainty estimate respectively. The latter two are used in the SNR cut that psfStarChooser makes."
   ]
  },
  {
   "cell_type": "code",
   "execution_count": 5,
   "metadata": {
    "collapsed": false
   },
   "outputs": [],
   "source": [
    "scamp.makeParFiles.writeSex('example.sex',\n",
    "                    minArea=3.,\n",
    "                    threshold=5.,\n",
    "                    zpt=27.8,\n",
    "                    aperture=20.,\n",
    "                    min_radius=2.0,\n",
    "                          catalogType='FITS_LDAC',\n",
    "                          saturate=55000)\n",
    "scamp.makeParFiles.writeConv()\n",
    "scamp.makeParFiles.writeParam(numAps=1) #numAps is thenumber of apertures that you want to use. Here we use 1\n",
    "\n",
    "scamp.runSex('example.sex', inputFile ,options={'CATALOG_NAME':'example.cat'},verbose=False)\n",
    "catalog=trimCatalog(scamp.getCatalog('example.cat',paramFile='def.param'))\n"
   ]
  },
  {
   "cell_type": "markdown",
   "metadata": {},
   "source": [
    "Finally, find the source closest to 811, 4005 which is the bright asteroid, 2006 Polonskaya. Also, set the rate and angle of motion. These were found from JPL horizons. The 1 degree increase is to account for the slight rotation of the image.\n",
    "\n",
    "Note: in this image, the asteroid is near (4005,811) and we apply a distance sort to the catalog to find correct catalog entry, and the source centroid, which we store in (xt,yt).\n",
    "\n",
    "Setting the important asteroid parameters. xt,yt contain the location of the asteroid itself (near 811,4005), rate and angle are the rate and angle of traililng, in \"/hr and degrees. We find the actual centroid as the location closest to that point."
   ]
  },
  {
   "cell_type": "code",
   "execution_count": 6,
   "metadata": {
    "collapsed": false
   },
   "outputs": [],
   "source": [
    "dist=((catalog['XWIN_IMAGE']-811)**2+(catalog['YWIN_IMAGE']-4005)**2)**0.5\n",
    "args=num.argsort(dist)\n",
    "xt=catalog['XWIN_IMAGE'][args][0]\n",
    "yt=catalog['YWIN_IMAGE'][args][0]\n",
    "\n",
    "rate=18.4588 # \"/hr\n",
    "angle=31.11+1.1 # degrees counter clockwise from horizontal, right\n",
    "\n"
   ]
  },
  {
   "cell_type": "markdown",
   "metadata": {},
   "source": [
    "Now use psfStarChooser to select the PSF stars. The first and second parameters to starChooser are the fitting box width in pixels, and the SNR minimum required for a star to be considered as a potential PSF star. \n",
    "\n",
    "Optional but important inputs are autoTrim and noVisualSelection. The former, when True, uses bgFinder.fraserMode to attempt to determine what FWHM corresponds to actual stars, and rejects all sources with FWHM outside +-0.5 pixels of the modal value. noVisualSelection determines if manual input is required. When set to false, all stars are considered. **Until you know the software, I suggest you use noVisualSelection=True for manual selection, and autoTrim=False to see all sources in the plot window.**\n",
    "\n",
    "For each star provided to psfStarChooser, it will print a line to screen of x,y and best fit alpha, beta, and FWHM of the moffat profile fit.\n",
    "\n",
    "Then psfStarChooser will pop-up a multipanel window. **Top left:** histogram of fit chi values. **Top right:** chi vs. FWHM for each fitted source. **Middle right:** histogram of FWHM. **Bottom right:** image display of the currently selected source. **Bottom left:** Radial profiles of all sources displayed in the top right scatter plot.\n",
    "\n",
    "The point of this window is to select only good stars for PSF generation, done by zooming to the good sources, and rejecting those that are bad.\n",
    "\n",
    "Use the zoom tool to select the region containing the stars. In this image, that's a cluser at FWHM~3.5 pixels.\n",
    "\n",
    "Left and right clicks will select a source, now surrounded by a diamond, displaying the radial profile bottom left, and the actual image bottom right.\n",
    "\n",
    "Right click will oscillate between accepted source and rejected source (blue and red respectively). \n",
    "\n",
    "When the window is closed, only those sources shown as blue points, and within the zoom of the top right plot will be used to generate the PSF.\n",
    "\n",
    "The array goodFits is returned for convenience and contains the moffat fit details of each accepted source. Each entry is [FWHM, chi, alpha, beta, x, y, local background value].\n",
    "\n",
    "The array goodMeds is just the median of goodFits, and provides the median moffat alpha and beta of the selected stars."
   ]
  },
  {
   "cell_type": "code",
   "execution_count": 7,
   "metadata": {
    "collapsed": false
   },
   "outputs": [
    {
     "name": "stdout",
     "output_type": "stream",
     "text": [
      "Fitting stars with moffat profiles...\n",
      " 1657.51   157.63  15.16  2.45  17.36\n",
      " 1009.42   363.71  2.84  2.56  3.17\n",
      "  251.90   684.70  2.86  2.59  3.17\n",
      " 1211.61   936.20  3.16  1.55  4.76\n",
      " 1587.22   945.88  2.67  2.35  3.13\n",
      " 1081.55   914.77  2.78  2.49  3.15\n",
      " 1315.03  1023.28  2.84  2.57  3.16\n",
      " 1652.57  1014.63  2.77  2.53  3.12\n",
      "  383.82  1238.34  2.89  2.62  3.18\n",
      " 1241.75  1286.83  3.56  2.26  4.27\n",
      "  510.65  1902.63  20.19  3.00  20.60\n",
      " 1106.80  2196.58  2.90  2.62  3.20\n",
      "  855.31  2362.30  2.99  2.69  3.24\n",
      " 1606.23  2700.56  2.76  2.51  3.12\n",
      "  433.79  2761.05  2.93  2.61  3.23\n",
      " 1458.17  3023.19  7.59  2.55  8.50\n",
      " 1071.70  3291.51  2.90  2.62  3.19\n",
      " 1633.35  3827.17  2.96  2.68  3.22\n",
      "  357.50  3746.18  2.90  2.62  3.19\n",
      " 1269.99  4429.10  2.86  2.55  3.20\n",
      " 1483.94  4477.91  2.94  2.66  3.22\n",
      "  820.38  4243.44  2.84  2.55  3.18\n",
      " 1919.63  4017.65  2.93  2.67  3.19\n",
      "  294.44  4080.45  2.65  2.32  3.14\n",
      "  812.20  4004.29  5.67  2.55  6.34\n",
      " 1635.10  3908.77  3.27  1.37  5.32\n",
      "None\n",
      "[[  3.17000000e+00   4.16146400e+01   2.84094830e+00   2.55919810e+00\n",
      "    1.00941845e+03   3.63707502e+02   1.21810033e+03]\n",
      " [  3.17000000e+00   3.55635224e+01   2.85610557e+00   2.59003749e+00\n",
      "    2.51904915e+02   6.84704324e+02   1.20370938e+03]\n",
      " [  3.13000000e+00   2.33441209e+02   2.66681255e+00   2.34830854e+00\n",
      "    1.58722404e+03   9.45882915e+02   1.23579679e+03]\n",
      " [  3.15000000e+00   3.96244690e+01   2.77513750e+00   2.48940282e+00\n",
      "    1.08155135e+03   9.14770754e+02   1.22461787e+03]\n",
      " [  3.16000000e+00   1.55863558e+02   2.83935154e+00   2.57341722e+00\n",
      "    1.31503491e+03   1.02328459e+03   1.22805223e+03]\n",
      " [  3.12000000e+00   6.28573088e+01   2.77335975e+00   2.52549842e+00\n",
      "    1.65257487e+03   1.01462975e+03   1.22662321e+03]\n",
      " [  3.18000000e+00   4.81066445e+01   2.89149565e+00   2.62413932e+00\n",
      "    3.83816005e+02   1.23834251e+03   1.21279988e+03]\n",
      " [  3.20000000e+00   6.70109832e+01   2.90382391e+00   2.62133781e+00\n",
      "    1.10680319e+03   2.19658165e+03   1.23492188e+03]\n",
      " [  3.24000000e+00   2.07429837e+02   2.99003244e+00   2.69434955e+00\n",
      "    8.55306404e+02   2.36229528e+03   1.22865435e+03]\n",
      " [  3.12000000e+00   3.69086116e+01   2.76215400e+00   2.51200099e+00\n",
      "    1.60622802e+03   2.70056419e+03   1.23157351e+03]\n",
      " [  3.23000000e+00   9.95060759e+01   2.92882775e+00   2.61483380e+00\n",
      "    4.33790608e+02   2.76105321e+03   1.22493805e+03]\n",
      " [  3.19000000e+00   4.06791957e+01   2.89632283e+00   2.62395778e+00\n",
      "    1.07169935e+03   3.29150670e+03   1.22649885e+03]\n",
      " [  3.22000000e+00   1.96305451e+02   2.95667421e+00   2.67809316e+00\n",
      "    1.63334565e+03   3.82717334e+03   1.23647310e+03]\n",
      " [  3.19000000e+00   1.67596588e+02   2.89667382e+00   2.62018526e+00\n",
      "    3.57495177e+02   3.74617700e+03   1.22044302e+03]\n",
      " [  3.20000000e+00   3.82549593e+01   2.86141367e+00   2.55206118e+00\n",
      "    1.26998994e+03   4.42910156e+03   1.23267178e+03]\n",
      " [  3.22000000e+00   2.05480576e+02   2.94295360e+00   2.66163930e+00\n",
      "    1.48393614e+03   4.47791465e+03   1.23492188e+03]\n",
      " [  3.18000000e+00   6.98053480e+01   2.84063112e+00   2.55276512e+00\n",
      "    8.20382356e+02   4.24344218e+03   1.22624624e+03]\n",
      " [  3.19000000e+00   4.09623031e+01   2.92679901e+00   2.67208617e+00\n",
      "    1.91962918e+03   4.01765066e+03   1.23524358e+03]\n",
      " [  3.14000000e+00   3.62347167e+01   2.65364881e+00   2.31597376e+00\n",
      "    2.94444052e+02   4.08044641e+03   1.21702163e+03]]\n",
      "[    3.16          40.61955446     2.8080429      2.52430046  1045.48490021\n",
      "   799.73753887  1221.3591019 ]\n"
     ]
    }
   ],
   "source": [
    "starChooser=psfStarChooser.starChooser(data,\n",
    "                                       catalog['XWIN_IMAGE'],catalog['YWIN_IMAGE'],\n",
    "                                       catalog['FLUX_AUTO'],catalog['FLUXERR_AUTO'])\n",
    "(goodFits,goodMeds,goodSTDs)=starChooser(30,200,noVisualSelection=False,autoTrim=True)\n",
    "print goodFits\n",
    "print goodMeds"
   ]
  },
  {
   "cell_type": "markdown",
   "metadata": {
    "collapsed": true
   },
   "source": [
    "Generate the PSF. We want a 61 pixel wide PSF, adopt a repFactor of 10, and use the mean star fits chosen above.\n",
    "\n",
    "**always use odd values for the dimensions. Even values (eg. 60 instead of 61) result in off centered lookup tables.**\n",
    "\n",
    "Repfactors of 5 and 10 have been tested thoroughly. Larger is pointless, smaller is inaccurate. 5 is faster than 10, 10 is more accurate than 5.\n",
    "\n",
    "The PSF has to be wide/tall enough to handle the trailing length and the seeing disk. For Polonskaya, the larger is trailing, at ~19\"/hr*480s/3600/0.185\"/pix = 14 pixels. Choose something a few times larger. Also, stick with odd width PSFs, as the even ones have some funny centroid stuff that I haven't fully sorted out.\n",
    "\n",
    "The full PSF is created with instantiation, and running both genLookupTable and genPSF."
   ]
  },
  {
   "cell_type": "code",
   "execution_count": 8,
   "metadata": {
    "collapsed": false
   },
   "outputs": [
    {
     "name": "stdout",
     "output_type": "stream",
     "text": [
      "Full width at half maximum 4.320 (in pix).\n"
     ]
    }
   ],
   "source": [
    "goodPSF=psf.modelPSF(num.arange(61), num.arange(61), alpha=goodMeds[2],beta=goodMeds[3],repFact=10)\n",
    "fwhm=goodPSF.FWHM() ###this is the pure moffat FWHM. Can also get this value by passing option fromMoffatProfile=True\n",
    "goodPSF.genLookupTable(data,goodFits[:,4],goodFits[:,5],verbose=False)\n",
    "fwhm=goodPSF.FWHM() ###this is the FWHM with lookuptable included\n",
    "\n",
    "print \"Full width at half maximum {:5.3f} (in pix).\".format(fwhm)\n",
    "\n",
    "(z1,z2)=numdisplay.zscale.zscale(goodPSF.lookupTable)\n",
    "normer=interval.ManualInterval(z1,z2)\n",
    "pyl.imshow(normer(goodPSF.lookupTable))\n",
    "pyl.show()"
   ]
  },
  {
   "cell_type": "markdown",
   "metadata": {},
   "source": [
    "Now generate the TSF, which we call the line/long PSF interchangeably through the code...\n",
    "\n",
    "Rate is in units of length/time and pixScale is in units of length/pixel, time and length are in units of your choice. Sanity suggests arcseconds and hours. Then rate in \"/hr and pixScale in \"/pix. Angle is in degrees counter clockwise from horizontal between +-90 degrees.\n",
    "\n",
    "**This can be rerun to create a TSF with different rate/angle of motion, though keep in mind that the psf class only contains one longPSF (one rate/angle) at any given time.**"
   ]
  },
  {
   "cell_type": "code",
   "execution_count": 9,
   "metadata": {
    "collapsed": false
   },
   "outputs": [
    {
     "name": "stdout",
     "output_type": "stream",
     "text": [
      "Using the lookup table when generating the long PSF.\n"
     ]
    }
   ],
   "source": [
    "goodPSF.line(rate,angle,EXPTIME/3600.,pixScale=0.185,useLookupTable=True)"
   ]
  },
  {
   "cell_type": "markdown",
   "metadata": {},
   "source": [
    "Now calculate aperture corrections for the PSF and TSF. Store for values of r=1.4*FWHM.\n",
    "\n",
    "Note that the precision of the aperture correction depends lightly on the sampling from the compute functions. 10 is generally enough to preserve 1% precision in the .roundAperCorr() and lineAperCorr() functions which use linear interpolation to get the value one actually desires.\n",
    "\n",
    "**NOTE: Set useLookupTable=False if one wants to calculate from the moffat profile alone. Generally, not accuarate for small apertures however.**"
   ]
  },
  {
   "cell_type": "code",
   "execution_count": 10,
   "metadata": {
    "collapsed": false
   },
   "outputs": [
    {
     "name": "stdout",
     "output_type": "stream",
     "text": [
      "    0.432 13228.759043 -10.303797765\n",
      "    0.650864242207 18770.7247626 -10.6837026041\n",
      "    0.980611717093 26514.9934207 -11.0587288092\n",
      "    1.47741921793 36867.3688253 -11.4166053592\n",
      "    2.22592439745 47135.8065041 -11.6833773559\n",
      "    3.35364489852 55185.4517531 -11.8545615052\n",
      "    5.05270265163 60080.4563934 -11.9468330577\n",
      "    7.61255435753 62708.6719349 -11.9933190081\n",
      "    11.4693042203 64076.2846617 -12.0167433052\n",
      "    17.28 64682.6137297 -12.026968902\n",
      "0.0620616163782 0.0759451239063\n"
     ]
    }
   ],
   "source": [
    "goodPSF.computeRoundAperCorrFromMoffat(psf.extent(0.8*fwhm,4*fwhm,10),display=False,\n",
    "                                                          displayAperture=False,\n",
    "                                                          useLookupTable=True)\n",
    "roundAperCorr=goodPSF.roundAperCorr(1.4*fwhm)\n",
    "\n",
    "goodPSF.computeLineAperCorrFromMoffat(psf.extent(0.1*fwhm,4*fwhm,10),\n",
    "                                                         l=(EXPTIME/3600.)*rate/0.185,a=angle,display=False,displayAperture=False)\n",
    "lineAperCorr=goodPSF.lineAperCorr(1.4*fwhm)\n",
    "print lineAperCorr,roundAperCorr"
   ]
  },
  {
   "cell_type": "markdown",
   "metadata": {},
   "source": [
    "Store the PSF."
   ]
  },
  {
   "cell_type": "code",
   "execution_count": 11,
   "metadata": {
    "collapsed": false
   },
   "outputs": [
    {
     "name": "stderr",
     "output_type": "stream",
     "text": [
      "/Users/fraserw/git/trippy/trippy/psf.py:87: FutureWarning: comparison to `None` will result in an elementwise object comparison in the future.\n",
      "  if self.aperCorrs<>None:\n",
      "/Users/fraserw/git/trippy/trippy/psf.py:91: FutureWarning: comparison to `None` will result in an elementwise object comparison in the future.\n",
      "  if self.lineAperCorrs<>None:\n"
     ]
    }
   ],
   "source": [
    "goodPSF.psfStore('psf.fits')\n"
   ]
  },
  {
   "cell_type": "markdown",
   "metadata": {},
   "source": [
    "We could save most of the above by restoring a previously constructed PSF by the following commented out code."
   ]
  },
  {
   "cell_type": "code",
   "execution_count": 12,
   "metadata": {
    "collapsed": true
   },
   "outputs": [],
   "source": [
    "#goodPSF=psf.modelPSF(restore='psf.fits')\n"
   ]
  },
  {
   "cell_type": "markdown",
   "metadata": {},
   "source": [
    "And we could generate a new line psf by recalling .line with a new rate and angle"
   ]
  },
  {
   "cell_type": "code",
   "execution_count": 13,
   "metadata": {
    "collapsed": true
   },
   "outputs": [],
   "source": [
    "#goodPSF.line(new_rate,new_angle,EXPTIME/3600.,pixScale=0.185,useLookupTable=True)"
   ]
  },
  {
   "cell_type": "markdown",
   "metadata": {},
   "source": [
    "Now let's do some pill aperture photometry. Instantiate the class, then call the object you created to get photometry of Polonskaya. Again assume repFact=10.\n",
    "\n",
    "pillPhot takes as input the same coordinates as outputted by sextractor.\n",
    "\n",
    "First example is of a round star which I have manually taken the coordinates from above. Second example is for the asteroid itself.\n",
    "\n",
    "enableBGselection=True will cause a popup display of the source, in which one can zoom to a section with no background source.\n",
    "\n",
    "The detault background selection technique is \"smart\". See bgFinder documentation for what that means. If you want to change this away from 'fraserMode', take a look at the options in bgFinder.\n",
    "\n",
    "display=True to see the image subsection\n",
    "\n",
    "r is the radius of the pill, l is the length, a is the angle. Sky radius is the radius of a larger pill aperture. The pixels in this larger aperture, but outside the smaller aperture are ignored. Anything outside the larger pill, but inside +-width is used for background estimation.\n",
    "\n",
    "Trimbghighpix is mostly made not important if mode=smart. But if you want to use a mean or median for some reason, then this value is used to reject pixels with values trimBGhighPix standard deviations above the mean of the cutout."
   ]
  },
  {
   "cell_type": "code",
   "execution_count": 15,
   "metadata": {
    "collapsed": false
   },
   "outputs": [
    {
     "name": "stdout",
     "output_type": "stream",
     "text": [
      "Current background value: 1217.485\n"
     ]
    }
   ],
   "source": [
    "\n",
    "#initiate the pillPhot object\n",
    "phot=pill.pillPhot(data,repFact=10)\n",
    "#get photometry, assume ZPT=26.0\n",
    "#enableBGselection=True allows you to zoom in on a good background region in the aperture display window\n",
    "#trimBGhighPix is a sigma cut to get rid of the cosmic rays. They get marked as blue in the display window\n",
    "#background is selected inside the box and outside the skyRadius value\n",
    "#mode is th background mode selection. Options are median, mean, histMode (JJ's jjkmode technique), fraserMode (ask me about it), gaussFit, and \"smart\". Smart does a gaussian fit first, and if the gaussian fit value is discrepant compared to the expectation from the background std, it resorts to the fraserMode. \"smart\" seems quite robust to nearby bright sources\n",
    "\n",
    "#examples of round sources\n",
    "phot(goodFits[0][4]-0.5, goodFits[0][5]-0.5,radius=fwhm*0.5,l=0.0,a=0.0,\n",
    "             skyRadius=4*fwhm,width=6*fwhm,\n",
    "              zpt=26.0,exptime=EXPTIME,enableBGSelection=True,display=True,\n",
    "              backupMode=\"fraserMode\",trimBGHighPix=3.)"
   ]
  },
  {
   "cell_type": "code",
   "execution_count": null,
   "metadata": {
    "collapsed": false
   },
   "outputs": [],
   "source": [
    "#example of a trailed source\n",
    "phot(xt,yt,radius=fwhm*1.4,l=(EXPTIME/3600.)*rate/0.185,a=angle,\n",
    "             skyRadius=4*fwhm,width=6*fwhm,\n",
    "              zpt=26.0,exptime=EXPTIME,enableBGSelection=True,display=True,\n",
    "              backupMode=\"smart\",trimBGHighPix=3.)"
   ]
  },
  {
   "cell_type": "markdown",
   "metadata": {},
   "source": [
    "The SNR function calculates the SNR of the aperture,as well as provide an estiamte of the magnitude/flux uncertainties. Select useBGstd=True if you wish to use the background noise level instead of sqrt of the background level in your uncertainty estimate. **Note: currently, this uncertainty estimate is approximate, good to a few percent. Future improvements will be made to get this a bit more accurate.**\n",
    "\n",
    "verbose=True puts some nice terminal output in your face. These values can be accessed with their internal names."
   ]
  },
  {
   "cell_type": "code",
   "execution_count": null,
   "metadata": {
    "collapsed": false
   },
   "outputs": [],
   "source": [
    "phot.SNR(verbose=True)\n",
    "\n",
    "#get those values\n",
    "print phot.magnitude\n",
    "print phot.dmagnitude\n",
    "print phot.sourceFlux\n",
    "print phot.snr\n",
    "print phot.bg\n",
    "\n"
   ]
  },
  {
   "cell_type": "markdown",
   "metadata": {},
   "source": [
    "Finally, let's do some PSF source subtraction. This is only possible with emcee and sextractor installed.\n",
    "\n",
    "First get the cutout. This makes everything faster later. Also, remove the background, just because."
   ]
  },
  {
   "cell_type": "code",
   "execution_count": null,
   "metadata": {
    "collapsed": true
   },
   "outputs": [],
   "source": [
    "Data=data[int(yt)-200:int(yt)+200,int(xt)-200:int(xt)+200]-phot.bg"
   ]
  },
  {
   "cell_type": "markdown",
   "metadata": {},
   "source": [
    "Now instantiate the MCMCfitter class, and then perform the fit. Verbose=False will not put anything to terminal. Setting to true will dump the result of each step. Only good idea if you insist on seeing what's happening. Do you trust black boxes?\n",
    "\n",
    "Set useLinePSF to True if you are fitting a trailed source, False if a point source. \n",
    "\n",
    "Set useErrorMap to True if you care to use an estimate of the poisson noise in each pixel during your fit. This produces honest confidence ranges.\n",
    "\n",
    "I personally like nWalkers=nBurn=nStep=40. To get a reasonable fit however, that's overkill. But to get the best... your mileage will vary.\n",
    "\n",
    "**This will take a while on a computer. ~1 minute on a modern i5 processor, much longer if you computer is a few years old. You can reduce the number of walkers, nBurn and nStep to ~10 each if you are impatient. This will drop the run time by ~4x**"
   ]
  },
  {
   "cell_type": "code",
   "execution_count": null,
   "metadata": {
    "collapsed": false
   },
   "outputs": [],
   "source": [
    "fitter=MCMCfit.MCMCfitter(goodPSF,Data)\n",
    "fitter.fitWithModelPSF(200+xt-int(xt)-1,200+yt-int(yt)-1, m_in=1000.,\n",
    "                       fitWidth=10, \n",
    "                       nWalkers=20, nBurn=20, nStep=20, \n",
    "                       bg=phot.bg, useLinePSF=True, verbose=False,useErrorMap=False)\n"
   ]
  },
  {
   "cell_type": "markdown",
   "metadata": {},
   "source": [
    "Now get the fits results, including best fit and confidence region using the input value. 0.67 for 1-sigma is shown"
   ]
  },
  {
   "cell_type": "code",
   "execution_count": null,
   "metadata": {
    "collapsed": false,
    "scrolled": true
   },
   "outputs": [],
   "source": [
    "(fitPars,fitRange)=fitter.fitResults(0.67)\n",
    "print fitPars\n",
    "print fitRange"
   ]
  },
  {
   "cell_type": "markdown",
   "metadata": {},
   "source": [
    "Finally, lets produce the model best fit image, and perform a subtraction. Plant will plant a fake source with the given input x,y,amplitude into the input data. If returnModel=True, then no source is planted, but the model image that would have been planted is returned.\n",
    "\n",
    "remove will do the opposite of plant given input data (it actually just calls plant). "
   ]
  },
  {
   "cell_type": "code",
   "execution_count": null,
   "metadata": {
    "collapsed": false
   },
   "outputs": [],
   "source": [
    "modelImage=goodPSF.plant(fitPars[0],fitPars[1],fitPars[2],Data,addNoise=False,useLinePSF=True,returnModel=True)\n",
    "pyl.imshow(modelImage)\n",
    "pyl.show()\n"
   ]
  },
  {
   "cell_type": "markdown",
   "metadata": {},
   "source": [
    "Now show the image and the image with model removed for comparison. This also provides an example of how to use stsci.numdisplay and astropy.visualization to display an astronomy image using the zscale scaling."
   ]
  },
  {
   "cell_type": "code",
   "execution_count": null,
   "metadata": {
    "collapsed": false
   },
   "outputs": [],
   "source": [
    "removed=goodPSF.remove(fitPars[0],fitPars[1],fitPars[2],Data,useLinePSF=True)\n",
    "\n",
    "(z1,z2)=numdisplay.zscale.zscale(removed)\n",
    "normer=interval.ManualInterval(z1,z2)\n",
    "\n",
    "pyl.imshow(normer(Data))\n",
    "pyl.show()\n",
    "\n",
    "pyl.imshow(normer(removed))\n",
    "pyl.show()"
   ]
  },
  {
   "cell_type": "code",
   "execution_count": null,
   "metadata": {
    "collapsed": true
   },
   "outputs": [],
   "source": []
  }
 ],
 "metadata": {
  "kernelspec": {
   "display_name": "Python 2",
   "language": "python",
   "name": "python2"
  },
  "language_info": {
   "codemirror_mode": {
    "name": "ipython",
    "version": 2
   },
   "file_extension": ".py",
   "mimetype": "text/x-python",
   "name": "python",
   "nbconvert_exporter": "python",
   "pygments_lexer": "ipython2",
   "version": "2.7.11"
  }
 },
 "nbformat": 4,
 "nbformat_minor": 0
}
